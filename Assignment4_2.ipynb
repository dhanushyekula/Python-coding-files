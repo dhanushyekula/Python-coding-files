{
 "cells": [
  {
   "cell_type": "markdown",
   "id": "5d395f21",
   "metadata": {},
   "source": [
    "# 1) Write a Python program that prints all the numbers from 0 to 6 except 3 and 6"
   ]
  },
  {
   "cell_type": "code",
   "execution_count": 2,
   "id": "5ca16506",
   "metadata": {},
   "outputs": [
    {
     "name": "stdout",
     "output_type": "stream",
     "text": [
      "1\n",
      "2\n",
      "4\n",
      "5\n"
     ]
    }
   ],
   "source": [
    "for i in range(0,6):\n",
    "    if i%3!=0:\n",
    "        print(i)"
   ]
  },
  {
   "cell_type": "markdown",
   "id": "030910a5",
   "metadata": {},
   "source": [
    "# 2) Write a program to accept a number from a user and calculate the sum of all numbers from 1 to a given number"
   ]
  },
  {
   "cell_type": "code",
   "execution_count": 6,
   "id": "3caae2a0",
   "metadata": {},
   "outputs": [
    {
     "name": "stdout",
     "output_type": "stream",
     "text": [
      "Enter a number : 7\n",
      "28\n"
     ]
    }
   ],
   "source": [
    "x=int(input(\"Enter a number : \"))\n",
    "y=0\n",
    "for i in range(1,x+1):\n",
    "    y=y+i\n",
    "print(y)    \n",
    "    "
   ]
  },
  {
   "cell_type": "markdown",
   "id": "e284ec3b",
   "metadata": {},
   "source": [
    "# 3) Write a program to print multiplication table of a given number(input)"
   ]
  },
  {
   "cell_type": "code",
   "execution_count": 7,
   "id": "aaac4ffe",
   "metadata": {},
   "outputs": [
    {
     "name": "stdout",
     "output_type": "stream",
     "text": [
      "Enter a number : 9\n",
      "9*1=9\n",
      "9*2=18\n",
      "9*3=27\n",
      "9*4=36\n",
      "9*5=45\n",
      "9*6=54\n",
      "9*7=63\n",
      "9*8=72\n",
      "9*9=81\n",
      "9*10=90\n"
     ]
    }
   ],
   "source": [
    "x=int(input(\"Enter a number : \"))\n",
    "for i in range(1,11):\n",
    "    print(\"{}*{}={}\".format(x,i,x*i))"
   ]
  },
  {
   "cell_type": "markdown",
   "id": "19759f74",
   "metadata": {},
   "source": [
    "# 4) Write a program to count the total number of digits in a number using a while loop. For example, the number is 75869, so the output should be 5."
   ]
  },
  {
   "cell_type": "code",
   "execution_count": 8,
   "id": "b6878459",
   "metadata": {},
   "outputs": [
    {
     "name": "stdout",
     "output_type": "stream",
     "text": [
      "Enter a number :12345\n",
      "5\n"
     ]
    }
   ],
   "source": [
    "x=int(input(\"Enter a number :\"))\n",
    "y=str(x)\n",
    "print(len(y))"
   ]
  },
  {
   "cell_type": "markdown",
   "id": "cf00f1c5",
   "metadata": {},
   "source": [
    "# 5) Write a Python program to guess a number between 1 to Example: User is prompted to enter a guess. If the user guesses wrong then the prompt appears again until the guess is correct, on successful guess, user will get a \"Well guessed!\" message, and the program will exit."
   ]
  },
  {
   "cell_type": "code",
   "execution_count": 1,
   "id": "0bb0d837",
   "metadata": {},
   "outputs": [
    {
     "name": "stdout",
     "output_type": "stream",
     "text": [
      "Guess a number between 1 to 10 : 7\n",
      "Well guessed\n"
     ]
    }
   ],
   "source": [
    "a=1\n",
    "while a==1:\n",
    "    x=int(input(\"Guess a number between 1 to 10 : \"))\n",
    "    if x==7 :\n",
    "        print(\"Well guessed\")\n",
    "        break\n",
    "    else:\n",
    "        print(\"try again\")\n",
    "        "
   ]
  },
  {
   "cell_type": "markdown",
   "id": "46c17402",
   "metadata": {},
   "source": [
    "# 6) Write a Python program which iterates the integers from 1 to 60. For multiples of three print \"Fizz\" instead of the number and for the multiples of five print \"Buzz\". For numbers which are multiples of both three and five print \"FizzBuzz\"."
   ]
  },
  {
   "cell_type": "code",
   "execution_count": 10,
   "id": "d35e46a4",
   "metadata": {},
   "outputs": [
    {
     "name": "stdout",
     "output_type": "stream",
     "text": [
      "1\n",
      "2\n",
      "Fizz\n",
      "4\n",
      "Buzz\n",
      "Fizz\n",
      "7\n",
      "8\n",
      "Fizz\n",
      "Buzz\n",
      "11\n",
      "Fizz\n",
      "13\n",
      "14\n",
      "FizzBuzz\n",
      "16\n",
      "17\n",
      "Fizz\n",
      "19\n",
      "Buzz\n",
      "Fizz\n",
      "22\n",
      "23\n",
      "Fizz\n",
      "Buzz\n",
      "26\n",
      "Fizz\n",
      "28\n",
      "29\n",
      "FizzBuzz\n",
      "31\n",
      "32\n",
      "Fizz\n",
      "34\n",
      "Buzz\n",
      "Fizz\n",
      "37\n",
      "38\n",
      "Fizz\n",
      "Buzz\n",
      "41\n",
      "Fizz\n",
      "43\n",
      "44\n",
      "FizzBuzz\n",
      "46\n",
      "47\n",
      "Fizz\n",
      "49\n",
      "Buzz\n",
      "Fizz\n",
      "52\n",
      "53\n",
      "Fizz\n",
      "Buzz\n",
      "56\n",
      "Fizz\n",
      "58\n",
      "59\n",
      "FizzBuzz\n"
     ]
    }
   ],
   "source": [
    "for i in range(1,61):\n",
    "    if i%15==0 :\n",
    "        print(\"FizzBuzz\")\n",
    "    elif i%3==0 :\n",
    "        print(\"Fizz\")\n",
    "    elif i%5==0 :\n",
    "        print(\"Buzz\")\n",
    "    else:\n",
    "        print(i)"
   ]
  },
  {
   "cell_type": "code",
   "execution_count": 13,
   "id": "3b42dc54",
   "metadata": {},
   "outputs": [
    {
     "name": "stdout",
     "output_type": "stream",
     "text": [
      "Enter string : fgfgf76766\n",
      "letters 0\n",
      "numbers 10\n"
     ]
    }
   ],
   "source": [
    "x=input(\"Enter string : \")\n",
    "a=0\n",
    "b=0\n",
    "for i in x:\n",
    "    if i.isalpha==\"true\":\n",
    "        a=a+1\n",
    "    else:\n",
    "        b=b+1\n",
    "print(\"letters {}\".format(a))\n",
    "print(\"numbers {}\".format(b))"
   ]
  },
  {
   "cell_type": "markdown",
   "id": "3a982416",
   "metadata": {},
   "source": [
    "# 9) Write a program in Python to reverse a word by using while loop"
   ]
  },
  {
   "cell_type": "code",
   "execution_count": 4,
   "id": "474a6823",
   "metadata": {},
   "outputs": [
    {
     "name": "stdout",
     "output_type": "stream",
     "text": [
      "enter a word : sdfghj\n",
      "jhgfds\n"
     ]
    }
   ],
   "source": [
    "x=input(\"enter a word : \")\n",
    "a=len(x)\n",
    "i=1\n",
    "y=\"\"\n",
    "while i<=a:\n",
    "    y=y+x[-i]\n",
    "    i=i+1\n",
    "print(y)  "
   ]
  },
  {
   "cell_type": "markdown",
   "id": "8b65b60b",
   "metadata": {},
   "source": [
    "# 10) Write a program which takes 10 integers as input using loop and print their average value on the screen"
   ]
  },
  {
   "cell_type": "code",
   "execution_count": 5,
   "id": "a1c1b504",
   "metadata": {},
   "outputs": [
    {
     "name": "stdout",
     "output_type": "stream",
     "text": [
      "Input : 10\n",
      "Input : 3\n",
      "Input : 4\n",
      "Input : 5\n",
      "Input : 6\n",
      "Input : 7\n",
      "Input : 8\n",
      "Input : 8\n",
      "Input : 9\n",
      "average : 6.0\n"
     ]
    }
   ],
   "source": [
    "y=0\n",
    "for i in range(1,10):\n",
    "    x=int(input(\"Input : \"))\n",
    "    y=y+x\n",
    "print(\"average : {}\".format(y/10))    "
   ]
  },
  {
   "cell_type": "markdown",
   "id": "158755bf",
   "metadata": {},
   "source": [
    "# 11) Write a program which takes integer inputs from user until he/she presses “q” (Ask to press q to quit after every integer input). Print average and product of all numbers."
   ]
  },
  {
   "cell_type": "code",
   "execution_count": 10,
   "id": "58fd7f6e",
   "metadata": {},
   "outputs": [
    {
     "name": "stdout",
     "output_type": "stream",
     "text": [
      "Enter number :67\n",
      "Press q to quit : h\n",
      "Enter number :67\n",
      "Press q to quit : q\n",
      "average 67.0\n",
      "Product 4489\n"
     ]
    }
   ],
   "source": [
    "a=1\n",
    "p=1\n",
    "b=0\n",
    "l=[]\n",
    "while a==1:\n",
    "    x=int(input(\"Enter number :\"))\n",
    "    y=input(\"Press q to quit : \")\n",
    "    b=b+x\n",
    "    l.append(x)\n",
    "    n=len(l)\n",
    "    p=p*x\n",
    "    if y==\"q\":\n",
    "        break\n",
    "print(\"average {}\".format(b/n))        \n",
    "print(\"Product {}\".format(p))        "
   ]
  },
  {
   "cell_type": "markdown",
   "id": "0f7204ef",
   "metadata": {},
   "source": [
    "# 13) Write a python program to find the sum of all even numbers from 0 to 10"
   ]
  },
  {
   "cell_type": "code",
   "execution_count": 14,
   "id": "6944061c",
   "metadata": {},
   "outputs": [
    {
     "name": "stdout",
     "output_type": "stream",
     "text": [
      "30\n"
     ]
    }
   ],
   "source": [
    "a=0\n",
    "for i in range(0,11):\n",
    "    if i%2==0:\n",
    "        a=a+i\n",
    "print(a)        "
   ]
  },
  {
   "cell_type": "markdown",
   "id": "9319785d",
   "metadata": {},
   "source": [
    "# 14) Write a python program which will accept a digit and print All the numbers before it till 0"
   ]
  },
  {
   "cell_type": "code",
   "execution_count": 15,
   "id": "2a820849",
   "metadata": {},
   "outputs": [
    {
     "name": "stdout",
     "output_type": "stream",
     "text": [
      "Enter a number : 10\n",
      "10\n",
      "9\n",
      "8\n",
      "7\n",
      "6\n",
      "5\n",
      "4\n",
      "3\n",
      "2\n",
      "1\n"
     ]
    }
   ],
   "source": [
    "x=int(input(\"Enter a number : \"))\n",
    "while x>=1:\n",
    "    print(x)\n",
    "    x=x-1"
   ]
  },
  {
   "cell_type": "markdown",
   "id": "e22a1800",
   "metadata": {},
   "source": [
    "# 15) Create a dynamic calculator which will run continually till you press “c”"
   ]
  },
  {
   "cell_type": "code",
   "execution_count": 16,
   "id": "506e702a",
   "metadata": {},
   "outputs": [
    {
     "name": "stdout",
     "output_type": "stream",
     "text": [
      "Enter s to start and c to quit : s\n",
      "Enter an input : 78\n",
      "Enter an input : 54\n",
      "Enter an operation : *\n",
      "78 * 54 = 4212\n",
      "Enter s to start and c to quit : c\n"
     ]
    }
   ],
   "source": [
    "a=1\n",
    "while a==1:\n",
    "    a1=input(\"Enter s to start and c to quit : \")\n",
    "    if a1==\"c\":\n",
    "        break\n",
    "    else:\n",
    "        x= int(input(\"Enter an input : \"))\n",
    "        y= int(input(\"Enter an input : \"))\n",
    "        z= input(\"Enter an operation : \")\n",
    "        if z==\"+\":\n",
    "            print(\"{} + {} = {}\".format(x,y,x+y))\n",
    "        elif z==\"-\":\n",
    "            print(\"{} - {} = {}\".format(x,y,x-y))\n",
    "        elif z==\"*\":\n",
    "            print(\"{} * {} = {}\".format(x,y,x*y))\n",
    "        elif z==\"/\":\n",
    "            print(\"{} / {} = {}\".format(x,y,x/y))\n",
    "        elif z==\"%\":\n",
    "            print(\"{} % {} = {}\".format(x,y,x%y))\n",
    "        elif z==\"^\":\n",
    "            print(\"{} ^ {} = {}\".format(x,y,x^y))\n",
    "        else: print(\"enter a valid operation\")    \n",
    "    "
   ]
  },
  {
   "cell_type": "code",
   "execution_count": null,
   "id": "2d600d34",
   "metadata": {},
   "outputs": [],
   "source": []
  }
 ],
 "metadata": {
  "kernelspec": {
   "display_name": "Python 3 (ipykernel)",
   "language": "python",
   "name": "python3"
  },
  "language_info": {
   "codemirror_mode": {
    "name": "ipython",
    "version": 3
   },
   "file_extension": ".py",
   "mimetype": "text/x-python",
   "name": "python",
   "nbconvert_exporter": "python",
   "pygments_lexer": "ipython3",
   "version": "3.11.3"
  }
 },
 "nbformat": 4,
 "nbformat_minor": 5
}
