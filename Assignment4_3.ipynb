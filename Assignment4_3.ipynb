{
 "cells": [
  {
   "cell_type": "markdown",
   "id": "28bb16f8",
   "metadata": {},
   "source": [
    "# 1. Write a Python program to loop through all the elements in a list"
   ]
  },
  {
   "cell_type": "code",
   "execution_count": null,
   "id": "ae5eeca8",
   "metadata": {},
   "outputs": [],
   "source": [
    "x=[]\n",
    "y=input(\"Enter elements : \")\n",
    "x.append(y)\n",
    "for i in x:\n",
    "    print(i)"
   ]
  },
  {
   "cell_type": "markdown",
   "id": "d70229e3",
   "metadata": {},
   "source": [
    "# 2. Write a Python program where you will ask the users to insert elements in a list"
   ]
  },
  {
   "cell_type": "code",
   "execution_count": 3,
   "id": "65470945",
   "metadata": {},
   "outputs": [
    {
     "name": "stdout",
     "output_type": "stream",
     "text": [
      "Enter elements into list :12,45,77,4,34\n",
      "['12,45,77,4,34']\n"
     ]
    }
   ],
   "source": [
    "x=[]\n",
    "y=input(\"Enter elements into list :\")\n",
    "x.append(y)\n",
    "print(x)"
   ]
  },
  {
   "cell_type": "markdown",
   "id": "c58143e2",
   "metadata": {},
   "source": [
    "# 3. Write a Python program to remove all the odd index value from a list and only even index elements should remain"
   ]
  },
  {
   "cell_type": "code",
   "execution_count": null,
   "id": "31131167",
   "metadata": {},
   "outputs": [],
   "source": [
    "    "
   ]
  },
  {
   "cell_type": "markdown",
   "id": "6c4db26d",
   "metadata": {},
   "source": [
    "# 4. Write a Python program to sum and multiply all the items in a list"
   ]
  },
  {
   "cell_type": "code",
   "execution_count": 15,
   "id": "21ef9604",
   "metadata": {},
   "outputs": [
    {
     "name": "stdout",
     "output_type": "stream",
     "text": [
      "Enter range : 4\n",
      "Enter elements into list :1\n",
      "Enter elements into list :2\n",
      "Enter elements into list :3\n",
      "Enter elements into list :4\n",
      "sum = 10\n",
      "product = 24\n"
     ]
    }
   ],
   "source": [
    "s=0\n",
    "p=1\n",
    "x=[]\n",
    "n=int(input(\"Enter range : \"))\n",
    "for i in range(0,n):\n",
    "    y=int(input(\"Enter elements into list :\"))\n",
    "    x.append(y)\n",
    "for a in x:\n",
    "    s=s+a\n",
    "    p=p*a\n",
    "print(\"sum = {}\".format(s))\n",
    "print(\"product = {}\".format(p))"
   ]
  },
  {
   "cell_type": "markdown",
   "id": "7261fd0c",
   "metadata": {},
   "source": [
    "# 5. Write a Python program to get the maximum and minimum numbers from a list"
   ]
  },
  {
   "cell_type": "code",
   "execution_count": 35,
   "id": "9f48e957",
   "metadata": {},
   "outputs": [
    {
     "name": "stdout",
     "output_type": "stream",
     "text": [
      "Enter range : 3\n",
      "Enter elements into list :21\n",
      "Enter elements into list :12\n",
      "Enter elements into list :23\n",
      "Max element :  23\n",
      "Min element :  12\n"
     ]
    }
   ],
   "source": [
    "x=[]\n",
    "n=int(input(\"Enter range : \"))\n",
    "for i in range(0,n):\n",
    "    y=int(input(\"Enter elements into list :\"))\n",
    "    x.append(y)\n",
    "max=x[0]\n",
    "for i in range(0,n):\n",
    "    if x[i]>max :\n",
    "        max=x[i]\n",
    "print(\"Max element : \",max)\n",
    "min=x[0]\n",
    "for i in range(0,n):\n",
    "    if x[i]<min :\n",
    "        min=x[i]\n",
    "print(\"Min element : \",min)"
   ]
  },
  {
   "cell_type": "code",
   "execution_count": null,
   "id": "b0e71f96",
   "metadata": {},
   "outputs": [],
   "source": []
  },
  {
   "cell_type": "code",
   "execution_count": 40,
   "id": "c2dad99f",
   "metadata": {},
   "outputs": [
    {
     "name": "stdout",
     "output_type": "stream",
     "text": [
      "Enter range : 10\n",
      "Enter elements into list :1\n",
      "Enter elements into list :2\n",
      "Enter elements into list :3\n",
      "Enter elements into list :4\n",
      "Enter elements into list :5\n",
      "Enter elements into list :6\n",
      "Enter elements into list :7\n",
      "Enter elements into list :8\n",
      "Enter elements into list :9\n",
      "Enter elements into list :10\n",
      "15\n"
     ]
    }
   ],
   "source": [
    "x=[]\n",
    "n=int(input(\"Enter range : \"))\n",
    "for i in range(0,n):\n",
    "    y=int(input(\"Enter elements into list :\"))\n",
    "    x.append(y)\n",
    "x=x.pop(0)+x.pop(4)+x.pop(5)\n",
    "print(x)"
   ]
  },
  {
   "cell_type": "markdown",
   "id": "c6f0f36b",
   "metadata": {},
   "source": [
    "# 7. Write a Python program to convert a list of characters into a string"
   ]
  },
  {
   "cell_type": "code",
   "execution_count": 44,
   "id": "3e7d7371",
   "metadata": {},
   "outputs": [
    {
     "name": "stdout",
     "output_type": "stream",
     "text": [
      "Enter range : 2\n",
      "Enter elements into list :dfg\n",
      "Enter elements into list :fghjk\n",
      "dfgfghjk\n"
     ]
    }
   ],
   "source": [
    "x=[]\n",
    "n=int(input(\"Enter range : \"))\n",
    "for i in range(0,n):\n",
    "    y=input(\"Enter elements into list :\")\n",
    "    x.append(y)\n",
    "st=\"\"\n",
    "for i in x:\n",
    "    st=st+i\n",
    "print(st)\n",
    "    "
   ]
  },
  {
   "cell_type": "markdown",
   "id": "900acc1d",
   "metadata": {},
   "source": [
    "# 8. Write a Python program to compute average of given lists."
   ]
  },
  {
   "cell_type": "code",
   "execution_count": 45,
   "id": "e191cf50",
   "metadata": {},
   "outputs": [
    {
     "name": "stdout",
     "output_type": "stream",
     "text": [
      "Enter range : 4\n",
      "Enter elements into list :4\n",
      "Enter elements into list :5\n",
      "Enter elements into list :6\n",
      "Enter elements into list :7\n",
      "average : 5.5\n"
     ]
    }
   ],
   "source": [
    "x=[]\n",
    "n=int(input(\"Enter range : \"))\n",
    "for i in range(0,n):\n",
    "    y=int(input(\"Enter elements into list :\"))\n",
    "    x.append(y)\n",
    "a=0\n",
    "for b in x:\n",
    "    a=a+b\n",
    "print(\"average : {}\".format(a/n))"
   ]
  },
  {
   "cell_type": "markdown",
   "id": "5d4a4fd1",
   "metadata": {},
   "source": [
    "# 10. Write a Python program to reverse the list"
   ]
  },
  {
   "cell_type": "code",
   "execution_count": 46,
   "id": "c6063579",
   "metadata": {},
   "outputs": [
    {
     "name": "stdout",
     "output_type": "stream",
     "text": [
      "Enter range : 3\n",
      "Enter elements into list :34\n",
      "Enter elements into list :56\n",
      "Enter elements into list :fgh\n",
      "['fgh', '56', '34']\n"
     ]
    }
   ],
   "source": [
    "x=[]\n",
    "n=int(input(\"Enter range : \"))\n",
    "for i in range(0,n):\n",
    "    y=input(\"Enter elements into list :\")\n",
    "    x.append(y)\n",
    "r=x[::-1]\n",
    "print(r)"
   ]
  },
  {
   "cell_type": "markdown",
   "id": "830d1f69",
   "metadata": {},
   "source": [
    "# 11. Write a Python program convert a given string to a tuple"
   ]
  },
  {
   "cell_type": "code",
   "execution_count": 49,
   "id": "ea3fcdaf",
   "metadata": {},
   "outputs": [
    {
     "name": "stdout",
     "output_type": "stream",
     "text": [
      "Enter a string :hgfdsa\n",
      "('h', 'g', 'f', 'd', 's', 'a')\n"
     ]
    }
   ],
   "source": [
    "x=input(\"Enter a string :\")\n",
    "a=[]\n",
    "for i in x:\n",
    "    a.append(i)\n",
    "print(tuple(a))    "
   ]
  },
  {
   "cell_type": "code",
   "execution_count": null,
   "id": "b5a1b39b",
   "metadata": {},
   "outputs": [],
   "source": []
  }
 ],
 "metadata": {
  "kernelspec": {
   "display_name": "Python 3 (ipykernel)",
   "language": "python",
   "name": "python3"
  },
  "language_info": {
   "codemirror_mode": {
    "name": "ipython",
    "version": 3
   },
   "file_extension": ".py",
   "mimetype": "text/x-python",
   "name": "python",
   "nbconvert_exporter": "python",
   "pygments_lexer": "ipython3",
   "version": "3.11.3"
  }
 },
 "nbformat": 4,
 "nbformat_minor": 5
}
