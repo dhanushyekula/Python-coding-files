{
 "cells": [
  {
   "cell_type": "markdown",
   "id": "4853eeb3",
   "metadata": {},
   "source": [
    "# 1. Given a list of numbers, write a python program that returns a new list which Has all duplicate elements removed. And is sorted in an increasing order.\n"
   ]
  },
  {
   "cell_type": "code",
   "execution_count": 3,
   "id": "ef8e18b8",
   "metadata": {},
   "outputs": [
    {
     "name": "stdout",
     "output_type": "stream",
     "text": [
      "Enter range : 4\n",
      "Enter elements into list :12\n",
      "Enter elements into list :32\n",
      "Enter elements into list :43\n",
      "Enter elements into list :11\n",
      "[12, 32, 43, 11]\n",
      "[11, 12, 32, 43]\n"
     ]
    }
   ],
   "source": [
    "x=[]\n",
    "n=int(input(\"Enter range : \"))\n",
    "for i in range(0,n):\n",
    "    y=int(input(\"Enter elements into list :\"))\n",
    "    x.append(y)\n",
    "print(x) \n",
    "new=[]\n",
    "for i in x:\n",
    "    if i not in new:\n",
    "        new.append(i)\n",
    "print(sorted(new))    "
   ]
  },
  {
   "cell_type": "markdown",
   "id": "2bdecdee",
   "metadata": {},
   "source": [
    "# 2. Write a Python program where you will iterate over both keys and values in dictionaries"
   ]
  },
  {
   "cell_type": "code",
   "execution_count": 6,
   "id": "c53b1e09",
   "metadata": {},
   "outputs": [
    {
     "name": "stdout",
     "output_type": "stream",
     "text": [
      "Enter range : 3\n",
      "Enter keys : 1\n",
      "Enter values : x\n",
      "Enter keys : 2\n",
      "Enter values : y\n",
      "Enter keys : 3\n",
      "Enter values : z\n",
      "('1', 'x')\n",
      "('2', 'y')\n",
      "('3', 'z')\n"
     ]
    }
   ],
   "source": [
    "x={}\n",
    "n=int(input(\"Enter range : \"))\n",
    "for i in range(0,n):\n",
    "    a=input(\"Enter keys : \")\n",
    "    b=input(\"Enter values : \")\n",
    "    x[a]=b \n",
    "for i in x.items():\n",
    "    print(i)\n",
    "    "
   ]
  },
  {
   "cell_type": "markdown",
   "id": "a478979e",
   "metadata": {},
   "source": [
    "# 3. Write a Python program that takes a dictionary of student names and returns a list of student names in alphabetical order"
   ]
  },
  {
   "cell_type": "code",
   "execution_count": null,
   "id": "1c821e01",
   "metadata": {},
   "outputs": [],
   "source": [
    "x={}\n",
    "n=int(input(\"Enter range : \"))\n",
    "for i in range(0,n):\n",
    "    a=input(\"Enter number : \")\n",
    "    b=input(\"Enter name : \")\n",
    "    x[a]=b \n",
    "new=[]\n",
    "for i in x.values():\n",
    "    new=sorted(x.values())\n",
    "print(new)    "
   ]
  },
  {
   "cell_type": "markdown",
   "id": "592c3515",
   "metadata": {},
   "source": [
    "# 4. Write a Python which returns a new list of Booleans, from a given number. Iterating through the number one digit at a time, append True if the digit is 1 and False if it is 0."
   ]
  },
  {
   "cell_type": "code",
   "execution_count": 8,
   "id": "43de3ba9",
   "metadata": {},
   "outputs": [
    {
     "name": "stdout",
     "output_type": "stream",
     "text": [
      "Enter binary number : 110010\n",
      "['True', 'True', 'False', 'False', 'True', 'False']\n"
     ]
    }
   ],
   "source": [
    "x=input(\"Enter binary number : \")\n",
    "a=[]\n",
    "for i in x:\n",
    "    if i==\"1\":\n",
    "        a.append(\"True\")\n",
    "    else:\n",
    "        a.append(\"False\")\n",
    "print(a)        "
   ]
  },
  {
   "cell_type": "markdown",
   "id": "409d9688",
   "metadata": {},
   "source": [
    "# 5. Write a Python program where you will return a dictionary where the keys will be the character and the values will be the occurrence of the character in the string, and it should for any string inputs (dynamic)\n"
   ]
  },
  {
   "cell_type": "code",
   "execution_count": 1,
   "id": "0e60e83b",
   "metadata": {},
   "outputs": [
    {
     "name": "stdout",
     "output_type": "stream",
     "text": [
      "Enter string : dhanush\n",
      "{'d': 1, 'h': 2, 'a': 1, 'n': 1, 'u': 1, 's': 1}\n"
     ]
    }
   ],
   "source": [
    "x=input(\"Enter string : \")\n",
    "a={}\n",
    "for i in x:\n",
    "    if i in a:\n",
    "        a[i]+=1\n",
    "    else:\n",
    "        a[i]=1\n",
    "print(a)        "
   ]
  },
  {
   "cell_type": "code",
   "execution_count": null,
   "id": "e4c03e0a",
   "metadata": {},
   "outputs": [],
   "source": []
  },
  {
   "cell_type": "code",
   "execution_count": 17,
   "id": "0a6c1371",
   "metadata": {},
   "outputs": [
    {
     "name": "stdout",
     "output_type": "stream",
     "text": [
      "Enter range : 2\n",
      "Enter name : ds\n",
      "Enter age : 23\n",
      "Enter name : ew\n",
      "Enter age : 34\n",
      "{'ds': '23', 'ew': '34'}\n",
      "dict_values(['23', '34'])\n"
     ]
    }
   ],
   "source": [
    "n=int(input(\"Enter range : \"))\n",
    "x={}\n",
    "for i in range(n):\n",
    "    a=input(\"Enter name : \")\n",
    "    b=input(\"Enter age : \")\n",
    "    x[a]=b \n",
    "print(x)    \n",
    "print((x.values()))"
   ]
  },
  {
   "cell_type": "markdown",
   "id": "0c9bde86",
   "metadata": {},
   "source": [
    "# 7. Write a Python program to create a Rock, Paper, Scissor game, use two inputs for two players: Conditions: -Rock beats Scissors, Scissors beats Paper, Paper beats Rock"
   ]
  },
  {
   "cell_type": "code",
   "execution_count": 19,
   "id": "224af050",
   "metadata": {},
   "outputs": [
    {
     "name": "stdout",
     "output_type": "stream",
     "text": [
      "enter input ROCK OR PAPER OR SCISSOR: scissor\n",
      "enter input ROCK OR PAPER OR SCISSOR: paper\n",
      "person1 wins\n"
     ]
    }
   ],
   "source": [
    "n=input(\"enter input ROCK OR PAPER OR SCISSOR: \")\n",
    "m=input(\"enter input ROCK OR PAPER OR SCISSOR: \")\n",
    "if((n==\"rock\") and (m==\"scissor\")) or (n==\"scissor\") and (m==\"paper\") or (n==\"paper\") and (m==\"rock\"):\n",
    "    print(\"person1 wins\")\n",
    "elif((n==\"scissor\") and (m==\"rock\")) or (n==\"paper\") and (m==\"scissor\") or (n==\"rock\") and (m==\"paper\"):\n",
    "    print(\"person2 wins\")\n",
    "else:\n",
    "    print(\"both entered same values enter again\")"
   ]
  },
  {
   "cell_type": "markdown",
   "id": "88e270a4",
   "metadata": {},
   "source": [
    "# 8. Create a program that returns a list of items that you can afford in the store with the money you have in your wallet. Create a dictionary with items as key and price as values"
   ]
  },
  {
   "cell_type": "code",
   "execution_count": 25,
   "id": "6ab79e0e",
   "metadata": {},
   "outputs": [
    {
     "name": "stdout",
     "output_type": "stream",
     "text": [
      "Enter range : 3\n",
      "Enter items : rice\n",
      "Enter prices : 100\n",
      "Enter items : dal\n",
      "Enter prices : 30\n",
      "Enter items : curry\n",
      "Enter prices : 40\n",
      "Enter money you have : 50\n",
      "['dal', 'curry']\n"
     ]
    }
   ],
   "source": [
    "x={}\n",
    "n=int(input(\"Enter range : \"))\n",
    "for i in range(0,n):\n",
    "    a=input(\"Enter items : \")\n",
    "    b=int(input(\"Enter prices : \"))\n",
    "    x[a]=b \n",
    "p=int(input(\"Enter money you have : \")) \n",
    "l=[]\n",
    "for a,b in x.items():\n",
    "    if b<=p :\n",
    "        l.append(a)\n",
    "print(l)        "
   ]
  },
  {
   "cell_type": "markdown",
   "id": "08effd20",
   "metadata": {},
   "source": [
    "# 9. Write a Python program to create a union of sets"
   ]
  },
  {
   "cell_type": "code",
   "execution_count": 32,
   "id": "867a0d05",
   "metadata": {},
   "outputs": [
    {
     "name": "stdout",
     "output_type": "stream",
     "text": [
      "Enter range : 3\n",
      "Enter element : 2\n",
      "Enter element : 3\n",
      "Enter element : 3\n",
      "{'2', '3'}\n",
      "Enter range : 4\n",
      "Enter element : 3\n",
      "Enter element : 4\n",
      "Enter element : 5\n",
      "Enter element : 56\n",
      "{'4', '3', '56', '5'}\n",
      "Union of 2 sets : {'2', '3', '56', '4', '5'}\n"
     ]
    }
   ],
   "source": [
    "r=int(input(\"Enter range : \"))\n",
    "x=set()\n",
    "for i in range(0,r):\n",
    "    a=input(\"Enter element : \")\n",
    "    x.add(a)\n",
    "print(x)    \n",
    "r1=int(input(\"Enter range : \"))\n",
    "x1=set()\n",
    "for i in range(0,r1):\n",
    "    a=input(\"Enter element : \")\n",
    "    x1.add(a)\n",
    "print(x1)   \n",
    "print(\"Union of 2 sets : {}\".format(x|x1))"
   ]
  },
  {
   "cell_type": "markdown",
   "id": "3c63cb2a",
   "metadata": {},
   "source": [
    "# 10. Write a Python program to check if a given value is present in a set or not (Dynamic)"
   ]
  },
  {
   "cell_type": "code",
   "execution_count": 34,
   "id": "65968ea9",
   "metadata": {},
   "outputs": [
    {
     "name": "stdout",
     "output_type": "stream",
     "text": [
      "Enter range : 3\n",
      "Enter element : 45\n",
      "Enter element : 44\n",
      "Enter element : 33\n",
      "{'44', '45', '33'}\n",
      "Enter element : 63\n",
      "Element is not present\n",
      "Element is not present\n",
      "Element is not present\n"
     ]
    }
   ],
   "source": [
    "r=int(input(\"Enter range : \"))\n",
    "x=set()\n",
    "for i in range(0,r):\n",
    "    a=input(\"Enter element : \")\n",
    "    x.add(a)\n",
    "print(x)\n",
    "e=input(\"Enter element : \")\n",
    "for i in x:\n",
    "    if i==e :\n",
    "        print(\"Element is present\")\n",
    "        break\n",
    "    else:\n",
    "        print(\"Element is not present\")"
   ]
  },
  {
   "cell_type": "markdown",
   "id": "801ba602",
   "metadata": {},
   "source": [
    "# 12. Write a Python program that accepts name of given subject and mark, and make subjects as keys in dictionaries and marks as values and print the final dictionary with subjects and marks\n"
   ]
  },
  {
   "cell_type": "code",
   "execution_count": 35,
   "id": "60d04c3f",
   "metadata": {},
   "outputs": [
    {
     "name": "stdout",
     "output_type": "stream",
     "text": [
      "Enter range : 4\n",
      "Enter subject : maths\n",
      "Enter marks : 45\n",
      "Enter subject : physics\n",
      "Enter marks : 49\n",
      "Enter subject : chemistry\n",
      "Enter marks : 47\n",
      "Enter subject : bio\n",
      "Enter marks : 50\n",
      "{'maths': 45, 'physics': 49, 'chemistry': 47, 'bio': 50}\n"
     ]
    }
   ],
   "source": [
    "x={}\n",
    "n=int(input(\"Enter range : \"))\n",
    "for i in range(0,n):\n",
    "    a=input(\"Enter subject : \")\n",
    "    b=int(input(\"Enter marks : \"))\n",
    "    x[a]=b \n",
    "print(x)    "
   ]
  },
  {
   "cell_type": "code",
   "execution_count": null,
   "id": "56260b7d",
   "metadata": {},
   "outputs": [],
   "source": []
  }
 ],
 "metadata": {
  "kernelspec": {
   "display_name": "Python 3 (ipykernel)",
   "language": "python",
   "name": "python3"
  },
  "language_info": {
   "codemirror_mode": {
    "name": "ipython",
    "version": 3
   },
   "file_extension": ".py",
   "mimetype": "text/x-python",
   "name": "python",
   "nbconvert_exporter": "python",
   "pygments_lexer": "ipython3",
   "version": "3.11.3"
  }
 },
 "nbformat": 4,
 "nbformat_minor": 5
}
