{
 "cells": [
  {
   "cell_type": "code",
   "execution_count": 2,
   "id": "6a9ee636",
   "metadata": {},
   "outputs": [
    {
     "name": "stdout",
     "output_type": "stream",
     "text": [
      "Enter any string : DHanuSH\n",
      "dhanush\n"
     ]
    }
   ],
   "source": [
    "#1.Write a python program to convert a string to lower case\n",
    "x=input(\"Enter any string : \")\n",
    "print(x.lower())"
   ]
  },
  {
   "cell_type": "code",
   "execution_count": 29,
   "id": "c70f447d",
   "metadata": {},
   "outputs": [
    {
     "data": {
      "text/plain": [
       "'AsSiGnMeNt'"
      ]
     },
     "execution_count": 29,
     "metadata": {},
     "output_type": "execute_result"
    }
   ],
   "source": [
    "#2.Python program to convert only odd indexed characters to lower case\n",
    "x=\"ASSIGNMENT\"\n",
    "x[0]+x[1].lower()+x[2]+x[3].lower()+x[4]+x[5].lower()+x[6]+x[7].lower()+x[8]+x[9].lower()"
   ]
  },
  {
   "cell_type": "code",
   "execution_count": 30,
   "id": "4ab7aa8d",
   "metadata": {},
   "outputs": [
    {
     "data": {
      "text/plain": [
       "'aSsIgNmEnt'"
      ]
     },
     "execution_count": 30,
     "metadata": {},
     "output_type": "execute_result"
    }
   ],
   "source": [
    "#3.python program to convert only even indexed characters to lower case\n",
    "x=\"ASSIGNMENT\"\n",
    "x[0].lower()+x[1]+x[2].lower()+x[3]+x[4].lower()+x[5]+x[6].lower()+x[7]+x[8].lower()+x[9].lower()"
   ]
  },
  {
   "cell_type": "code",
   "execution_count": 32,
   "id": "9b921155",
   "metadata": {},
   "outputs": [
    {
     "data": {
      "text/plain": [
       "'aSsIgNmEnT'"
      ]
     },
     "execution_count": 32,
     "metadata": {},
     "output_type": "execute_result"
    }
   ],
   "source": [
    "#4.python program to convert only odd indexed characters to upper case\n",
    "x=\"assignment\"\n",
    "x[0]+x[1].upper()+x[2]+x[3].upper()+x[4]+x[5].upper()+x[6]+x[7].upper()+x[8]+x[9].upper()"
   ]
  },
  {
   "cell_type": "code",
   "execution_count": 34,
   "id": "03d4d451",
   "metadata": {},
   "outputs": [
    {
     "data": {
      "text/plain": [
       "'AsSiGnMeNt'"
      ]
     },
     "execution_count": 34,
     "metadata": {},
     "output_type": "execute_result"
    }
   ],
   "source": [
    "#5.python program to convert only even indexed characters to upper case\n",
    "x=\"assignment\"\n",
    "x[0].upper()+x[1]+x[2].upper()+x[3]+x[4].upper()+x[5]+x[6].upper()+x[7]+x[8].upper()+x[9]"
   ]
  },
  {
   "cell_type": "code",
   "execution_count": 6,
   "id": "fb9bd66f",
   "metadata": {},
   "outputs": [
    {
     "name": "stdout",
     "output_type": "stream",
     "text": [
      "Enter your name : dhanush\n",
      "Enter your sex : male\n",
      "Enter your age : 22\n",
      "Enter your phone number : 76547876545\n",
      "Enter your Father name : pydilingam\n",
      "Enter your mother name : uma\n",
      "My name is dhanush,my sex is male,my age is 22,my phone number is 76547876545,my father's name is pydilingam,my mother's name is uma\n"
     ]
    }
   ],
   "source": [
    "#6.Write a python program where you have different variable which contains your name ,sex,age, phone no ,fathers name and mothers name.And by using this variable create a\n",
    "# variable named bio-data where you will use all this variable\n",
    "# Ex:-print(bio-data)\n",
    "# Output:- My name is …., My age is ….,My phone-no is ….,my fathers name is …,and my mothers name is……\n",
    "name=input(\"Enter your name : \")\n",
    "sex=input(\"Enter your sex : \")\n",
    "age=int(input(\"Enter your age : \"))\n",
    "ph=int(input(\"Enter your phone number : \"))\n",
    "fathername=input(\"Enter your Father name : \")\n",
    "mothername=input(\"Enter your mother name : \")\n",
    "biodata=\"My name is {},my sex is {},my age is {},my phone number is {},my father's name is {},my mother's name is {}\".format(name,sex,age,ph,fathername,mothername)\n",
    "print(biodata)"
   ]
  },
  {
   "cell_type": "code",
   "execution_count": 7,
   "id": "0b3101b4",
   "metadata": {},
   "outputs": [
    {
     "name": "stdout",
     "output_type": "stream",
     "text": [
      "Enter a string : dfghjk@@@@@@@fghj\n",
      "@ has occured 7 times in this string\n"
     ]
    }
   ],
   "source": [
    "#7.Write a python program to count how many times “@” occurred\n",
    "x=input(\"Enter a string : \")\n",
    "print(\"@ has occured {} times in this string\".format(x.count(\"@\")))\n"
   ]
  },
  {
   "cell_type": "code",
   "execution_count": 14,
   "id": "cb7db2c2",
   "metadata": {},
   "outputs": [
    {
     "name": "stdout",
     "output_type": "stream",
     "text": [
      "Enter your emal id : dhanushyekula@gmail.com,dhdhbdc@gmail.com\n",
      "dhanushyekula,dhdhbdc\n"
     ]
    }
   ],
   "source": [
    "#8.Write a python program to get only names from the string “name1.@gmail.com,name2.@gmail.com,name 3.@gmail.com” Output-name1,name2,name3\n",
    "x=input(\"Enter your emal id : \")\n",
    "print(x.replace(\"@gmail.com\",\"\"))"
   ]
  },
  {
   "cell_type": "code",
   "execution_count": 19,
   "id": "dbda77ed",
   "metadata": {},
   "outputs": [
    {
     "name": "stdout",
     "output_type": "stream",
     "text": [
      "Enter a string : abcdefghijklm\n",
      "fgh\n"
     ]
    }
   ],
   "source": [
    "#9.Given a string of odd length greater that 9, return a new string made of the middle three characters of a given String\n",
    "# Ex:- “mynameissan\n",
    "# Output:- “mei”\n",
    "x=input(\"Enter a string : \")\n",
    "l=len(x)\n",
    "c=l//2\n",
    "print(x[c-1:c+2])"
   ]
  },
  {
   "cell_type": "code",
   "execution_count": 21,
   "id": "679ff136",
   "metadata": {},
   "outputs": [
    {
     "name": "stdout",
     "output_type": "stream",
     "text": [
      "Enter a string : abcde\n",
      "Enter a string : xy\n",
      "abxycde\n"
     ]
    }
   ],
   "source": [
    "#10.Write a python program to insert a 2 string in the middle of 1 string\n",
    "#Ex:-Str1=”myn”\n",
    "# Str2=”sa”\n",
    "# Output:-“msayn”\n",
    "\n",
    "x=input(\"Enter a string : \")\n",
    "y=input(\"Enter a string : \")\n",
    "l=len(x)\n",
    "c=l//2\n",
    "print(x[:c]+y+x[c:])"
   ]
  },
  {
   "cell_type": "code",
   "execution_count": 26,
   "id": "cc286d2c",
   "metadata": {},
   "outputs": [
    {
     "data": {
      "text/plain": [
       "'bcdfghjklmnpqrstvwxyz'"
      ]
     },
     "execution_count": 26,
     "metadata": {},
     "output_type": "execute_result"
    }
   ],
   "source": [
    "#11.Write a program to remove vowels from the entire alphabets Ex:- “abcdefghijklmnopqrstuvwxyz” Output:-“bcdfghjklmnpqrstvwxyz”\n",
    "x=\"abcdefghijklmnopqrstuvwxyz\"\n",
    "t=x.maketrans(\"aeiou\",\".....\")\n",
    "x.translate(t).replace(\".\",\"\")"
   ]
  },
  {
   "cell_type": "code",
   "execution_count": null,
   "id": "f539706f",
   "metadata": {},
   "outputs": [],
   "source": []
  }
 ],
 "metadata": {
  "kernelspec": {
   "display_name": "Python 3 (ipykernel)",
   "language": "python",
   "name": "python3"
  },
  "language_info": {
   "codemirror_mode": {
    "name": "ipython",
    "version": 3
   },
   "file_extension": ".py",
   "mimetype": "text/x-python",
   "name": "python",
   "nbconvert_exporter": "python",
   "pygments_lexer": "ipython3",
   "version": "3.11.3"
  }
 },
 "nbformat": 4,
 "nbformat_minor": 5
}
