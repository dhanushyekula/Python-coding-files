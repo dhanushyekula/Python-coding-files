{
 "cells": [
  {
   "cell_type": "markdown",
   "id": "52b3c2c3",
   "metadata": {},
   "source": [
    "# 1) Write a program to accept two numbers from the user and calculate multiplication, division"
   ]
  },
  {
   "cell_type": "code",
   "execution_count": null,
   "id": "a4d2a69e",
   "metadata": {},
   "outputs": [],
   "source": [
    "x=int(input(\"Enter a number : \"))\n",
    "y=int(input(\"Enter a number : \"))\n",
    "print(\"Multiplication of {} and {} is {}\".format(x,y,x*y))\n",
    "print(\"Division of {} and {} is {}\".format(x,y,x/y))"
   ]
  },
  {
   "cell_type": "markdown",
   "id": "1794c651",
   "metadata": {},
   "source": [
    "# 2) Write a python program to print the characters from a string that are present at an even index "
   ]
  },
  {
   "cell_type": "code",
   "execution_count": 8,
   "id": "7ea49953",
   "metadata": {
    "scrolled": true
   },
   "outputs": [
    {
     "name": "stdout",
     "output_type": "stream",
     "text": [
      "Enter a string : dhanush\n",
      "Even characters : dauh\n"
     ]
    }
   ],
   "source": [
    "st=input(\"Enter a string : \")\n",
    "print(\"Even characters :\",st[::2])        "
   ]
  },
  {
   "cell_type": "markdown",
   "id": "1fa75df6",
   "metadata": {},
   "source": [
    "# 3) Write a python program to print the characters from a string that are present at an odd index"
   ]
  },
  {
   "cell_type": "code",
   "execution_count": 9,
   "id": "21c0ed90",
   "metadata": {},
   "outputs": [
    {
     "name": "stdout",
     "output_type": "stream",
     "text": [
      "Enter a string : dhanush\n",
      "Odd characters :  hns\n"
     ]
    }
   ],
   "source": [
    "st=input(\"Enter a string : \")\n",
    "print(\"Odd characters : \",st[1::2])"
   ]
  },
  {
   "cell_type": "markdown",
   "id": "27831b7d",
   "metadata": {},
   "source": [
    "# 4) Write a python program which will print the sum of the two numbers if the two numbers are even or it will print the difference of two numbers"
   ]
  },
  {
   "cell_type": "code",
   "execution_count": 12,
   "id": "3c52b8c2",
   "metadata": {},
   "outputs": [
    {
     "name": "stdout",
     "output_type": "stream",
     "text": [
      "enter a number : 9\n",
      "enter a number : 10\n",
      "difference of 9 and 10 is -1\n"
     ]
    }
   ],
   "source": [
    "x=int(input(\"enter a number : \"))\n",
    "y=int(input(\"enter a number : \"))\n",
    "if x%2==0 and y%2==0 :\n",
    "    print(\"sum of {} and {} is {}\".format(x,y,x+y))\n",
    "else:\n",
    "    print(\"difference of {} and {} is {}\".format(x,y,x-y))"
   ]
  },
  {
   "cell_type": "markdown",
   "id": "b42c3620",
   "metadata": {},
   "source": [
    "# 6) Write a python program which will print True if the input number is divisible by 5 or else False"
   ]
  },
  {
   "cell_type": "code",
   "execution_count": 14,
   "id": "6d5a7b3a",
   "metadata": {},
   "outputs": [
    {
     "name": "stdout",
     "output_type": "stream",
     "text": [
      "Enter a number : 10\n",
      "True\n"
     ]
    }
   ],
   "source": [
    "x=int(input(\"Enter a number : \"))\n",
    "if x%5==0:\n",
    "    print(\"True\")\n",
    "else:\n",
    "    print(\"False\")\n",
    "    "
   ]
  },
  {
   "cell_type": "markdown",
   "id": "9ba28abf",
   "metadata": {},
   "source": [
    "# 7) Given two integer numbers return their product only if the product is greater than 1000, else return their sum"
   ]
  },
  {
   "cell_type": "code",
   "execution_count": 17,
   "id": "58a71b45",
   "metadata": {},
   "outputs": [
    {
     "name": "stdout",
     "output_type": "stream",
     "text": [
      "Enter a number : 5\n",
      "Enter a number : 6\n",
      "11\n"
     ]
    }
   ],
   "source": [
    "x=int(input(\"Enter a number : \"))\n",
    "y=int(input(\"Enter a number : \"))\n",
    "if x*y>1000:\n",
    "    print(x*y)\n",
    "else:\n",
    "    print(x+y)\n",
    "    "
   ]
  },
  {
   "cell_type": "markdown",
   "id": "216c9c0d",
   "metadata": {},
   "source": [
    "# 8) Given two strings x, y writes a program to return a new string made of x and y’s first, middle, and last characters"
   ]
  },
  {
   "cell_type": "code",
   "execution_count": 20,
   "id": "35ab4fdc",
   "metadata": {},
   "outputs": [
    {
     "name": "stdout",
     "output_type": "stream",
     "text": [
      "Enter string : pyhto\n",
      "Enter string : javas\n",
      "pjhvos\n"
     ]
    }
   ],
   "source": [
    "x=input(\"Enter string : \")\n",
    "y=input(\"Enter string : \")\n",
    "print(x[0]+y[0]+x[len(x)//2]+y[len(y)//2]+x[-1]+y[-1])"
   ]
  },
  {
   "cell_type": "markdown",
   "id": "2558842a",
   "metadata": {},
   "source": [
    "# 9) Write a python program to take three names as input from a user in the single input () function call"
   ]
  },
  {
   "cell_type": "code",
   "execution_count": 24,
   "id": "adb7013b",
   "metadata": {},
   "outputs": [
    {
     "name": "stdout",
     "output_type": "stream",
     "text": [
      "Enter 3 names : ahdbha dvhjv havhr\n",
      "Name1 : ahdbha\n",
      "Name2 : dvhjv\n",
      "Name3 : havhr\n"
     ]
    }
   ],
   "source": [
    "x=input(\"Enter 3 names : \")\n",
    "y=x.split(\" \")\n",
    "print(\"Name1 :\",y[0])\n",
    "print(\"Name2 :\",y[1])\n",
    "print(\"Name3 :\",y[2])"
   ]
  },
  {
   "cell_type": "markdown",
   "id": "fb6f415a",
   "metadata": {},
   "source": [
    "# 10) Write a Python program to get a string from a given string where all occurrences of its first char have been changed to '@', except the first char itself. "
   ]
  },
  {
   "cell_type": "code",
   "execution_count": 26,
   "id": "11b05efc",
   "metadata": {},
   "outputs": [
    {
     "name": "stdout",
     "output_type": "stream",
     "text": [
      "Enter string : ajfejaaajfbjwba\n",
      "ajfej@@@jfbjwb@\n"
     ]
    }
   ],
   "source": [
    "x=input(\"Enter string : \")\n",
    "print(x[0]+x[1:].replace(x[0],\"@\"))"
   ]
  },
  {
   "cell_type": "markdown",
   "id": "fff83bbd",
   "metadata": {},
   "source": [
    "# 12) Write a python program that accepts two inputs num1 and num2 print True if one of them is 10 or if their sum is 10 otherwise print False"
   ]
  },
  {
   "cell_type": "code",
   "execution_count": 32,
   "id": "5e729cee",
   "metadata": {},
   "outputs": [
    {
     "name": "stdout",
     "output_type": "stream",
     "text": [
      "Enter a number :6\n",
      "Enter a number :5\n",
      "false\n"
     ]
    }
   ],
   "source": [
    "x=int(input(\"Enter a number :\"))\n",
    "y=int(input(\"Enter a number :\"))\n",
    "if (x==10) or (y==10)or x+y==10 :\n",
    "    print(\"true\")\n",
    "else:\n",
    "    print(\"false\")"
   ]
  },
  {
   "cell_type": "markdown",
   "id": "6b03d1d8",
   "metadata": {},
   "source": [
    "# 13) Write a python program that accepts three inputs x, y and z print True if x*y>z otherwise False"
   ]
  },
  {
   "cell_type": "code",
   "execution_count": 35,
   "id": "2e7cb65c",
   "metadata": {},
   "outputs": [
    {
     "name": "stdout",
     "output_type": "stream",
     "text": [
      "Enter a number :10\n",
      "Enter a number :5\n",
      "Enter a number :60\n",
      "false\n"
     ]
    }
   ],
   "source": [
    "x=int(input(\"Enter a number :\"))\n",
    "y=int(input(\"Enter a number :\"))\n",
    "z=int(input(\"Enter a number :\"))\n",
    "if (x*y)>z:\n",
    "    print(\"true\")\n",
    "else:\n",
    "    print(\"false\")"
   ]
  },
  {
   "cell_type": "markdown",
   "id": "61991d18",
   "metadata": {},
   "source": [
    "# 14) Write a python program that accepts two strings inputs return True depending on whether the total number of characters in the first string is equal to the total number of characters in the second string"
   ]
  },
  {
   "cell_type": "code",
   "execution_count": 37,
   "id": "f153a133",
   "metadata": {},
   "outputs": [
    {
     "name": "stdout",
     "output_type": "stream",
     "text": [
      "Enter a string : aaaaa\n",
      "Enter a string : bbbbb\n",
      "true\n"
     ]
    }
   ],
   "source": [
    "x=input(\"Enter a string : \")\n",
    "y=input(\"Enter a string : \")\n",
    "if len(x)==len(y):\n",
    "    print(\"true\")\n",
    "else:\n",
    "    print(\"False\")"
   ]
  },
  {
   "cell_type": "markdown",
   "id": "0cfab2ae",
   "metadata": {},
   "source": [
    "# 16) Write a python program that takes in a word and determines whether or not it is plural. A plural word is one that ends in \"s\"."
   ]
  },
  {
   "cell_type": "code",
   "execution_count": 41,
   "id": "69a83710",
   "metadata": {},
   "outputs": [
    {
     "name": "stdout",
     "output_type": "stream",
     "text": [
      "Enter a string : car\n",
      "not plural\n"
     ]
    }
   ],
   "source": [
    "x=input(\"Enter a string : \")\n",
    "if x[-1]==\"s\":\n",
    "    print(\"plural\")\n",
    "else:\n",
    "    print(\"not plural\")"
   ]
  },
  {
   "cell_type": "markdown",
   "id": "96450b3f",
   "metadata": {},
   "source": [
    "# 17) A bartender is writing a simple program to determine whether he should serve drinks to someone. He only serves drinks to people 18 and older and when he's not on break (True means break and False means not a break time). Given the person's age, and whether break time is in session, create a python program which prints whether he should serve drinks or not."
   ]
  },
  {
   "cell_type": "code",
   "execution_count": 5,
   "id": "33a64c11",
   "metadata": {},
   "outputs": [
    {
     "name": "stdout",
     "output_type": "stream",
     "text": [
      "Break(true or false):false\n",
      "Enter age : 33\n",
      "Serve\n"
     ]
    }
   ],
   "source": [
    "b=input(\"Break(true or false):\")\n",
    "age=int(input(\"Enter age : \"))\n",
    "if b==\"false\" and age>18 :\n",
    "    print(\"Serve\")\n",
    "else:\n",
    "    print(\"Don't serve\")"
   ]
  },
  {
   "cell_type": "markdown",
   "id": "da736063",
   "metadata": {},
   "source": [
    "# 19) Write a python program that takes a string, breaks it up and returns it with vowels first, consonants second. For any character that's not a vowel (like special characters or spaces), treat them like consonants"
   ]
  },
  {
   "cell_type": "code",
   "execution_count": null,
   "id": "1b7cc544",
   "metadata": {},
   "outputs": [],
   "source": []
  },
  {
   "cell_type": "markdown",
   "id": "c5660388",
   "metadata": {},
   "source": [
    "# 20) Create a dynamic calculator which asks for numbers and operator and return the answers"
   ]
  },
  {
   "cell_type": "code",
   "execution_count": 2,
   "id": "60006664",
   "metadata": {},
   "outputs": [
    {
     "name": "stdout",
     "output_type": "stream",
     "text": [
      "Type first number : 45\n",
      "Type any of this (+,-,*,/,%,**) : *\n",
      "Type second number : 4\n",
      "Answer is 180\n"
     ]
    }
   ],
   "source": [
    "x=int(input(\"Type first number : \"))\n",
    "o=input(\"Type any of this (+,-,*,/,%,**) : \")\n",
    "y=int(input(\"Type second number : \"))\n",
    "if o==\"+\":\n",
    "    print(\"Answer is {}\".format(x+y))\n",
    "elif o==\"-\":\n",
    "    print(\"Answer is {}\".format(x-y))\n",
    "elif o==\"*\":\n",
    "    print(\"Answer is {}\".format(x*y))\n",
    "elif o==\"/\":\n",
    "    print(\"Answer is {}\".format(x/y))\n",
    "elif o==\"%\":\n",
    "    print(\"Answer is {}\".format(x%y))\n",
    "elif o==\"**\":\n",
    "    print(\"Answer is {}\".format(x**y))\n",
    "else:\n",
    "    print(\"Enter valid operation\")\n",
    "        "
   ]
  },
  {
   "cell_type": "code",
   "execution_count": null,
   "id": "fd13ca8c",
   "metadata": {},
   "outputs": [],
   "source": []
  }
 ],
 "metadata": {
  "kernelspec": {
   "display_name": "Python 3 (ipykernel)",
   "language": "python",
   "name": "python3"
  },
  "language_info": {
   "codemirror_mode": {
    "name": "ipython",
    "version": 3
   },
   "file_extension": ".py",
   "mimetype": "text/x-python",
   "name": "python",
   "nbconvert_exporter": "python",
   "pygments_lexer": "ipython3",
   "version": "3.11.3"
  }
 },
 "nbformat": 4,
 "nbformat_minor": 5
}
